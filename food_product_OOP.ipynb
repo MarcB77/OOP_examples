{
 "cells": [
  {
   "cell_type": "code",
   "execution_count": 13,
   "metadata": {},
   "outputs": [
    {
     "name": "stdout",
     "output_type": "stream",
     "text": [
      "('Milk', 'B')\n"
     ]
    }
   ],
   "source": [
    "class food_product:\n",
    "    def __init__(self, product, sugar, kcal):\n",
    "        self.product = product\n",
    "        self.sugar = sugar\n",
    "        self.kcal = kcal\n",
    "\n",
    "class product_details(food_product):\n",
    "    def __init__(self, product, sugar, kcal):\n",
    "        super().__init__(product, sugar, kcal)\n",
    "    def nutri_score(self):\n",
    "        if self.sugar <=5:\n",
    "            nutri_score = \"A\"\n",
    "        if  self.sugar >5 and self.sugar <=20:\n",
    "            nutri_score = \"B\"\n",
    "        if self.sugar >20 and self.sugar <=60:\n",
    "            nutri_score = \"C\"\n",
    "        return self.product, nutri_score\n",
    "\n",
    "product = product_details(\"Milk\", 6, 150)   \n",
    "print(product.nutri_score())"
   ]
  }
 ],
 "metadata": {
  "kernelspec": {
   "display_name": "Python 3.8.10 64-bit",
   "language": "python",
   "name": "python3"
  },
  "language_info": {
   "codemirror_mode": {
    "name": "ipython",
    "version": 3
   },
   "file_extension": ".py",
   "mimetype": "text/x-python",
   "name": "python",
   "nbconvert_exporter": "python",
   "pygments_lexer": "ipython3",
   "version": "3.8.10"
  },
  "orig_nbformat": 4,
  "vscode": {
   "interpreter": {
    "hash": "0adcc2737ebf6a4a119f135174df96668767fca1ef1112612db5ecadf2b6d608"
   }
  }
 },
 "nbformat": 4,
 "nbformat_minor": 2
}
