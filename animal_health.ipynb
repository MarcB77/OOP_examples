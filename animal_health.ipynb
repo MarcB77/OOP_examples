{
 "cells": [
  {
   "cell_type": "code",
   "execution_count": 9,
   "metadata": {},
   "outputs": [
    {
     "name": "stdout",
     "output_type": "stream",
     "text": [
      "('bird', 'To light')\n"
     ]
    }
   ],
   "source": [
    "class animal:   \n",
    "    '''Hier defineer ik de standaard begin values, die ik in elke class weer gebruik.'''\n",
    "    def __init__(self, weight, type_animal):\n",
    "        self.weight = weight\n",
    "        self.type_animal = type_animal\n",
    "\n",
    "class animal_details(animal): \n",
    "    ''' Doormiddel van super().__init__ verkrijg ik die standaard begin values. \n",
    "    En creeer ik een nieuwe 'ratio'.'''\n",
    "    def __init__(self, weight, type_animal):\n",
    "        super().__init__(weight, type_animal)\n",
    "    def weight_ratio(self):\n",
    "        if self.weight > 10:\n",
    "            ratio = 'To heavy'\n",
    "        if self.weight > 4 and self.weight <= 10:\n",
    "            ratio = 'Perfect weight ratio'\n",
    "        if self.weight <= 4:\n",
    "            ratio = 'To light'\n",
    "        return self.type_animal, ratio\n",
    "\n",
    "animal_ = animal_details(3, 'bird')\n",
    "print(animal_.weight_ratio())"
   ]
  }
 ],
 "metadata": {
  "kernelspec": {
   "display_name": "Python 3.7.9 64-bit",
   "language": "python",
   "name": "python3"
  },
  "language_info": {
   "codemirror_mode": {
    "name": "ipython",
    "version": 3
   },
   "file_extension": ".py",
   "mimetype": "text/x-python",
   "name": "python",
   "nbconvert_exporter": "python",
   "pygments_lexer": "ipython3",
   "version": "3.7.9"
  },
  "orig_nbformat": 4,
  "vscode": {
   "interpreter": {
    "hash": "aee8b7b246df8f9039afb4144a1f6fd8d2ca17a180786b69acc140d282b71a49"
   }
  }
 },
 "nbformat": 4,
 "nbformat_minor": 2
}
